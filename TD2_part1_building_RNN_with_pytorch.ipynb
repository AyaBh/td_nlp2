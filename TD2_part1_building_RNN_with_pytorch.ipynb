{
 "cells": [
  {
   "cell_type": "markdown",
   "id": "895a119a",
   "metadata": {},
   "source": [
    "# Building RNN with Pytorch\n",
    "\n",
    "Dans ce TD, nous allons construire un RNN from scratch avec Pytorch, en suivant les étapes suivantes:\n",
    "1. Sur un problème linéaire, nous allons utiliser les torch optimizers pour trouver le paramètre de régression idéal\n",
    "2. Sur un problème non-linéaire, nous allons construire un multi-layers perceptron\n",
    "3. Sur un problème de texte, nous allons construire un modèle RNN"
   ]
  },
  {
   "cell_type": "code",
   "execution_count": 4,
   "metadata": {},
   "outputs": [
    {
     "name": "stdout",
     "output_type": "stream",
     "text": [
      "Defaulting to user installation because normal site-packages is not writeable\n",
      "Collecting matplotlib\n",
      "  Downloading matplotlib-3.8.2-cp39-cp39-macosx_10_12_x86_64.whl (7.6 MB)\n",
      "\u001b[K     |████████████████████████████████| 7.6 MB 765 kB/s eta 0:00:01\n",
      "\u001b[?25hCollecting pyparsing>=2.3.1\n",
      "  Downloading pyparsing-3.1.1-py3-none-any.whl (103 kB)\n",
      "\u001b[K     |████████████████████████████████| 103 kB 3.9 MB/s eta 0:00:01\n",
      "\u001b[?25hCollecting contourpy>=1.0.1\n",
      "  Downloading contourpy-1.2.0-cp39-cp39-macosx_10_9_x86_64.whl (257 kB)\n",
      "\u001b[K     |████████████████████████████████| 257 kB 2.3 MB/s eta 0:00:01\n",
      "\u001b[?25hRequirement already satisfied: python-dateutil>=2.7 in /Users/stockly/Library/Python/3.9/lib/python/site-packages (from matplotlib) (2.8.2)\n",
      "Collecting kiwisolver>=1.3.1\n",
      "  Downloading kiwisolver-1.4.5-cp39-cp39-macosx_10_9_x86_64.whl (68 kB)\n",
      "\u001b[K     |████████████████████████████████| 68 kB 2.4 MB/s eta 0:00:01\n",
      "\u001b[?25hCollecting importlib-resources>=3.2.0\n",
      "  Downloading importlib_resources-6.1.1-py3-none-any.whl (33 kB)\n",
      "Requirement already satisfied: numpy<2,>=1.21 in /Users/stockly/Library/Python/3.9/lib/python/site-packages (from matplotlib) (1.26.2)\n",
      "Collecting cycler>=0.10\n",
      "  Downloading cycler-0.12.1-py3-none-any.whl (8.3 kB)\n",
      "Requirement already satisfied: packaging>=20.0 in /Users/stockly/Library/Python/3.9/lib/python/site-packages (from matplotlib) (23.2)\n",
      "Collecting pillow>=8\n",
      "  Downloading Pillow-10.1.0-cp39-cp39-macosx_10_10_x86_64.whl (3.5 MB)\n",
      "\u001b[K     |████████████████████████████████| 3.5 MB 2.9 MB/s eta 0:00:01\n",
      "\u001b[?25hCollecting fonttools>=4.22.0\n",
      "  Downloading fonttools-4.44.3-cp39-cp39-macosx_10_9_x86_64.whl (2.3 MB)\n",
      "\u001b[K     |████████████████████████████████| 2.3 MB 3.4 MB/s eta 0:00:01\n",
      "\u001b[?25hRequirement already satisfied: zipp>=3.1.0 in /Users/stockly/Library/Python/3.9/lib/python/site-packages (from importlib-resources>=3.2.0->matplotlib) (3.17.0)\n",
      "Requirement already satisfied: six>=1.5 in /Library/Developer/CommandLineTools/Library/Frameworks/Python3.framework/Versions/3.9/lib/python3.9/site-packages (from python-dateutil>=2.7->matplotlib) (1.15.0)\n",
      "Installing collected packages: pyparsing, pillow, kiwisolver, importlib-resources, fonttools, cycler, contourpy, matplotlib\n",
      "Successfully installed contourpy-1.2.0 cycler-0.12.1 fonttools-4.44.3 importlib-resources-6.1.1 kiwisolver-1.4.5 matplotlib-3.8.2 pillow-10.1.0 pyparsing-3.1.1\n",
      "\u001b[33mWARNING: You are using pip version 21.2.4; however, version 23.3.1 is available.\n",
      "You should consider upgrading via the '/Library/Developer/CommandLineTools/usr/bin/python3 -m pip install --upgrade pip' command.\u001b[0m\n",
      "Note: you may need to restart the kernel to use updated packages.\n"
     ]
    }
   ],
   "source": [
    "pip install matplotlib"
   ]
  },
  {
   "cell_type": "code",
   "execution_count": 6,
   "metadata": {},
   "outputs": [
    {
     "name": "stdout",
     "output_type": "stream",
     "text": [
      "Defaulting to user installation because normal site-packages is not writeable\n",
      "Collecting torch\n",
      "  Downloading torch-2.1.1-cp39-none-macosx_10_9_x86_64.whl (147.0 MB)\n",
      "\u001b[K     |████████████████████████████████| 147.0 MB 3.7 MB/s eta 0:00:01    |████████                        | 36.9 MB 1.1 MB/s eta 0:01:38     |██████████                      | 46.3 MB 4.0 MB/s eta 0:00:26\n",
      "\u001b[?25hCollecting sympy\n",
      "  Downloading sympy-1.12-py3-none-any.whl (5.7 MB)\n",
      "\u001b[K     |████████████████████████████████| 5.7 MB 4.3 MB/s eta 0:00:01\n",
      "\u001b[?25hCollecting filelock\n",
      "  Downloading filelock-3.13.1-py3-none-any.whl (11 kB)\n",
      "Collecting jinja2\n",
      "  Downloading Jinja2-3.1.2-py3-none-any.whl (133 kB)\n",
      "\u001b[K     |████████████████████████████████| 133 kB 3.8 MB/s eta 0:00:01\n",
      "\u001b[?25hCollecting fsspec\n",
      "  Downloading fsspec-2023.10.0-py3-none-any.whl (166 kB)\n",
      "\u001b[K     |████████████████████████████████| 166 kB 3.2 MB/s eta 0:00:01\n",
      "\u001b[?25hRequirement already satisfied: typing-extensions in /Users/stockly/Library/Python/3.9/lib/python/site-packages (from torch) (4.8.0)\n",
      "Collecting networkx\n",
      "  Downloading networkx-3.2.1-py3-none-any.whl (1.6 MB)\n",
      "\u001b[K     |████████████████████████████████| 1.6 MB 4.0 MB/s eta 0:00:01\n",
      "\u001b[?25hCollecting MarkupSafe>=2.0\n",
      "  Downloading MarkupSafe-2.1.3-cp39-cp39-macosx_10_9_x86_64.whl (13 kB)\n",
      "Collecting mpmath>=0.19\n",
      "  Downloading mpmath-1.3.0-py3-none-any.whl (536 kB)\n",
      "\u001b[K     |████████████████████████████████| 536 kB 3.3 MB/s eta 0:00:01\n",
      "\u001b[?25hInstalling collected packages: mpmath, MarkupSafe, sympy, networkx, jinja2, fsspec, filelock, torch\n",
      "Successfully installed MarkupSafe-2.1.3 filelock-3.13.1 fsspec-2023.10.0 jinja2-3.1.2 mpmath-1.3.0 networkx-3.2.1 sympy-1.12 torch-2.1.1\n",
      "\u001b[33mWARNING: You are using pip version 21.2.4; however, version 23.3.1 is available.\n",
      "You should consider upgrading via the '/Library/Developer/CommandLineTools/usr/bin/python3 -m pip install --upgrade pip' command.\u001b[0m\n",
      "Note: you may need to restart the kernel to use updated packages.\n"
     ]
    }
   ],
   "source": [
    "pip install torch"
   ]
  },
  {
   "cell_type": "code",
   "execution_count": 7,
   "id": "9929e27d",
   "metadata": {},
   "outputs": [],
   "source": [
    "import matplotlib.pyplot as plt\n",
    "import numpy as np\n",
    "import torch"
   ]
  },
  {
   "cell_type": "markdown",
   "id": "511cfa9c",
   "metadata": {},
   "source": [
    "## Optimizers\n",
    "\n",
    "### Données example\n",
    "Nous allons construire des données $y = \\beta^* X + b$\n"
   ]
  },
  {
   "cell_type": "code",
   "execution_count": 11,
   "id": "81d004af",
   "metadata": {},
   "outputs": [
    {
     "data": {
      "text/plain": [
       "[<matplotlib.lines.Line2D at 0x127479040>]"
      ]
     },
     "execution_count": 11,
     "metadata": {},
     "output_type": "execute_result"
    },
    {
     "data": {
      "image/png": "[encoded data removed]",
      "text/plain": [
       "<Figure size 640x480 with 1 Axes>"
      ]
     },
     "metadata": {},
     "output_type": "display_data"
    }
   ],
   "source": [
    "n = 100\n",
    "\n",
    "a_star = 3.\n",
    "b_star = -3.\n",
    "noise_std = 1\n",
    "\n",
    "x = (np.random.rand(n, 1) - 0.5) * 4\n",
    "noise = np.random.normal(0, noise_std, (n, 1))\n",
    "y = a_star * x + b_star + noise\n",
    "\n",
    "x = torch.tensor(x, dtype=torch.float32)\n",
    "\n",
    "xvec = x\n",
    "plt.plot(x, y, 'o', markersize=10)"
   ]
  },
  {
   "cell_type": "markdown",
   "id": "a30c3616",
   "metadata": {},
   "source": [
    "### Constuire l'optimizer\n",
    "\n",
    "- Avec torch.nn.Parameter(), créer le paramètre beta qui sera optimisé. Les predictions du modèle sont égales à $\\beta \\times X$ \n",
    "- Avec torch.nn.MSELoss, déclarer la loss entre les prédictions et le résultat réel. loss.backward() pour mettre à jour les gradients\n",
    "- Avec torch.optim.Adam, déclarer un optimizer\n",
    "- Construisez la boucle qui, pour n_epochs, va reset les gradients, calculer la loss, mettre à jour les gradients et faire un pas pour optimiser beta"
   ]
  },
  {
   "cell_type": "code",
   "execution_count": 12,
   "id": "d5af62a0",
   "metadata": {},
   "outputs": [],
   "source": [
    "# Supposons que A est la matrice des caractéristiques (features)\n",
    "# Vous devez définir la taille de beta en fonction de la taille de vos données\n",
    "# Ajouter une colonne de 1 pour l'ordonnée à l'origine\n",
    "A = torch.cat([x, torch.ones(n, 1)], dim=1)\n",
    "# Pour la régression linéaire, beta devrait avoir 2 paramètres : pente et ordonnée à l'origine\n",
    "beta = torch.nn.Parameter(torch.randn(2, 1))\n",
    "criterion = torch.nn.MSELoss()\n",
    "\n",
    "# Supposons que y est le vecteur de résultats réels\n",
    "y = torch.randn(100, 1)  # Exemple de vecteur de résultats réels\n",
    "optimizer = torch.optim.Adam([beta], lr=0.001)  # Learning rate à ajuster selon le besoin\n",
    "n_epochs = 100  # Nombre d'epochs à définir\n",
    "\n",
    "for epoch in range(n_epochs):\n",
    "    optimizer.zero_grad()\n",
    "    predictions = A @ beta\n",
    "    loss = criterion(predictions, y)\n",
    "    loss.backward()\n",
    "    optimizer.step()\n"
   ]
  },
  {
   "cell_type": "code",
   "execution_count": 13,
   "id": "b669ad46",
   "metadata": {},
   "outputs": [
    {
     "data": {
      "image/png": "[encoded data removed]",
      "text/plain": [
       "<Figure size 640x480 with 1 Axes>"
      ]
     },
     "metadata": {},
     "output_type": "display_data"
    }
   ],
   "source": [
    "with torch.no_grad():  # Pas besoin de calculer les gradients ici\n",
    "    plt.plot(x.numpy(), y.numpy(), 'o', markersize=10)\n",
    "    plt.plot(x.numpy(), (A @ beta).numpy(), 'rx')  # Tracé des prédictions\n"
   ]
  },
  {
   "cell_type": "markdown",
   "id": "bc7664db",
   "metadata": {},
   "source": [
    "## Construire un multi-layer perceptron (MLP)"
   ]
  },
  {
   "cell_type": "markdown",
   "id": "1270600a",
   "metadata": {},
   "source": [
    "Ici, les données sont $y = a x^2 + b$"
   ]
  },
  {
   "cell_type": "code",
   "execution_count": 38,
   "id": "ad053927",
   "metadata": {},
   "outputs": [
    {
     "data": {
      "text/plain": [
       "[<matplotlib.lines.Line2D at 0x12753fa90>]"
      ]
     },
     "execution_count": 38,
     "metadata": {},
     "output_type": "execute_result"
    },
    {
     "data": {
      "image/png": "[encoded data removed]",
      "text/plain": [
       "<Figure size 640x480 with 1 Axes>"
      ]
     },
     "metadata": {},
     "output_type": "display_data"
    }
   ],
   "source": [
    "n = 100\n",
    "\n",
    "a_star = 3.\n",
    "b_star = -3.\n",
    "noise_std = 1\n",
    "\n",
    "x = (np.random.rand(n, 1) - 0.5) * 4\n",
    "noise = np.random.normal(0, noise_std, (n, 1))\n",
    "y = a_star * (x ** 2) + b_star + noise\n",
    "\n",
    "x = torch.tensor(x, dtype=torch.float32)\n",
    "y = torch.tensor(y, dtype=torch.float32)\n",
    "\n",
    "\n",
    "xvec = x\n",
    "plt.plot(x, y, 'o', markersize=10)"
   ]
  },
  {
   "cell_type": "markdown",
   "id": "5d285840",
   "metadata": {},
   "source": [
    "Nous allons construire un Pytorch modèle. Dans ce framework, on définit la fonction \"forward\" qui prend en argument les inputs et retourne les prédictions.\n",
    "\n",
    "A l'aide de torch.nn.Module et de différentes layers (torch.nn.Linear, torch.nn.ReLU), terminez la classe ci-dessous pour créer un multi-layers perceptron "
   ]
  },
  {
   "cell_type": "code",
   "execution_count": 39,
   "id": "35fe1d5e",
   "metadata": {},
   "outputs": [],
   "source": [
    "import torch.nn as nn\n",
    "import torch.optim as optim\n",
    "\n",
    "class MLP(nn.Module):\n",
    "    def __init__(self, input_size, hidden_size):\n",
    "        super(MLP, self).__init__()\n",
    "        self.layer1 = nn.Linear(input_size, hidden_size)\n",
    "        self.relu = nn.ReLU()\n",
    "        self.layer2 = nn.Linear(hidden_size, 1)  # Sortie unique pour la régression\n",
    "\n",
    "    def forward(self, x):\n",
    "        out = self.layer1(x)\n",
    "        out = self.relu(out)\n",
    "        out = self.layer2(out)\n",
    "        return out\n",
    "\n"
   ]
  },
  {
   "cell_type": "markdown",
   "id": "a6678cd7",
   "metadata": {},
   "source": [
    "En utilisant le travail précédent, faite une cellule utilisant un torch optimizer pour optimiser le MLP "
   ]
  },
  {
   "cell_type": "code",
   "execution_count": 62,
   "id": "b80e23d5",
   "metadata": {},
   "outputs": [],
   "source": [
    "input_size = 1\n",
    "hidden_size = 1000  # Vous pouvez ajuster cela\n",
    "model = MLP(input_size, hidden_size)\n",
    "criterion = nn.MSELoss()\n",
    "optimizer = optim.Adam(model.parameters(), lr=0.01)\n",
    "num_epochs = 1000  # Ajustez selon le besoin\n",
    "for epoch in range(num_epochs):\n",
    "    # Forward pass\n",
    "    outputs = model(x)\n",
    "    loss = criterion(outputs, y)\n",
    "\n",
    "    # Backward and optimize\n",
    "    optimizer.zero_grad()\n",
    "    loss.backward()\n",
    "    optimizer.step()\n"
   ]
  },
  {
   "cell_type": "code",
   "execution_count": 64,
   "metadata": {},
   "outputs": [
    {
     "data": {
      "image/png": "[encoded data removed]",
      "text/plain": [
       "<Figure size 640x480 with 1 Axes>"
      ]
     },
     "metadata": {},
     "output_type": "display_data"
    }
   ],
   "source": [
    "# Prédire les valeurs y à partir de x\n",
    "y_pred = model(x).detach()  # .detach() pour retirer les gradients\n",
    "\n",
    "# Tracer les données réelles\n",
    "plt.plot(x.numpy(), y.numpy(), 'o', label='Données réelles')\n",
    "\n",
    "# Tracer les prédictions du modèle\n",
    "plt.plot(x.numpy(), y_pred.numpy(), 'o', label='Prédictions du modèle')\n",
    "\n",
    "plt.legend()\n",
    "plt.show()\n"
   ]
  },
  {
   "cell_type": "markdown",
   "id": "6b679a74",
   "metadata": {},
   "source": [
    "## Construire un Recurrent Neural Network (RNN) from scratch"
   ]
  },
  {
   "cell_type": "markdown",
   "id": "69393034",
   "metadata": {},
   "source": [
    "### Données\n",
    " \n",
    "Téléchargez [ici](https://download.pytorch.org/tutorial/data.zip) un jeu de données \"nom\" -> pays d'origine du nom.\n",
    "Les noms de chaque pays sont dans leur fichier texte \"[country].txt\"\n",
    "\n",
    "A partir de ces données, créez X la liste des noms et y le pays d'origine de chaque nom"
   ]
  },
  {
   "cell_type": "markdown",
   "id": "f8e33ad1",
   "metadata": {},
   "source": [
    "### Aide pour générer les données\n",
    "\n",
    "A la fin de ce code, on lit les noms et leur pays d'origine.<br>\n",
    "On a une fonction randomTrainingExample, qui génère le pays d'origine et le nom (en texte), puis l'ID de ce pays et le tenseur représetant le nom. <br>\n",
    "\n",
    "A partir de là, vous pouvez générer les données X, y comme vous voulez"
   ]
  },
  {
   "cell_type": "code",
   "execution_count": 6,
   "id": "8669e66d",
   "metadata": {
    "scrolled": true
   },
   "outputs": [],
   "source": [
    "# Code pour générer le jeu de données\n",
    "# En admettant que les fichiers ont été extraits dans data/raw/names/\n",
    "\n",
    "import math\n",
    "import numpy as np\n",
    "from pathlib import Path\n",
    "import random\n",
    "\n",
    "import string\n",
    "import time\n",
    "import unicodedata\n",
    "\n",
    "\n",
    "path = Path(\"data/raw/names/\")"
   ]
  },
  {
   "cell_type": "code",
   "execution_count": 7,
   "id": "5ed6fb05",
   "metadata": {},
   "outputs": [],
   "source": [
    "def read_names(path):\n",
    "    category_lines = {}\n",
    "    for file in path.iterdir():\n",
    "        if not file.name.endswith(\".txt\"):\n",
    "            continue\n",
    "            \n",
    "        with open(file) as f:\n",
    "            names = [unicodeToAscii(line.strip()) for line in f]\n",
    "        \n",
    "        category = file.stem\n",
    "        category_lines[category] = names\n",
    "\n",
    "    return category_lines\n",
    "\n",
    "# Handling ASCII stuff\n",
    "all_letters = string.ascii_letters + \" .,;'\"\n",
    "n_letters = len(all_letters)\n",
    "\n",
    "# Turn a Unicode string to plain ASCII, thanks to https://stackoverflow.com/a/518232/2809427\n",
    "def unicodeToAscii(s):\n",
    "    return ''.join(\n",
    "        c for c in unicodedata.normalize('NFD', s)\n",
    "        if unicodedata.category(c) != 'Mn'\n",
    "        and c in all_letters\n",
    "    )"
   ]
  },
  {
   "cell_type": "code",
   "execution_count": 8,
   "id": "bfc37069",
   "metadata": {},
   "outputs": [],
   "source": [
    "category_lines = read_names(path)\n",
    "all_categories = list(category_lines.keys())\n",
    "n_categories = len(all_categories)"
   ]
  },
  {
   "cell_type": "code",
   "execution_count": 9,
   "id": "312870b8",
   "metadata": {},
   "outputs": [],
   "source": [
    "import torch\n",
    "\n",
    "# Find letter index from all_letters, e.g. \"a\" = 0\n",
    "def letterToIndex(letter):\n",
    "    return all_letters.find(letter)\n",
    "\n",
    "# Just for demonstration, turn a letter into a <1 x n_letters> Tensor\n",
    "def letterToTensor(letter):\n",
    "    tensor = torch.zeros(1, n_letters)\n",
    "    tensor[0][letterToIndex(letter)] = 1\n",
    "    return tensor\n",
    "\n",
    "# Turn a line into a <line_length x 1 x n_letters>,\n",
    "# or an array of one-hot letter vectors\n",
    "def lineToTensor(line):\n",
    "    tensor = torch.zeros(len(line), 1, n_letters)\n",
    "    for li, letter in enumerate(line):\n",
    "        tensor[li][0][letterToIndex(letter)] = 1\n",
    "    return tensor"
   ]
  },
  {
   "cell_type": "code",
   "execution_count": 10,
   "id": "0b606108",
   "metadata": {},
   "outputs": [
    {
     "name": "stdout",
     "output_type": "stream",
     "text": [
      "category = Arabic / line = Isa\n",
      "category = Dutch / line = Houtum\n",
      "category = Spanish / line = Bengochea\n",
      "category = French / line = Lemieux\n",
      "category = Russian / line = Bawilin\n",
      "category = Greek / line = Kouropoulos\n",
      "category = Russian / line = Pavlyuchenko\n",
      "category = Japanese / line = Mishima\n",
      "category = Greek / line = Sotiris\n",
      "category = Spanish / line = Fernandez\n"
     ]
    }
   ],
   "source": [
    "def randomChoice(l):\n",
    "    return l[random.randint(0, len(l) - 1)]\n",
    "\n",
    "def randomTrainingExample():\n",
    "    category = randomChoice(all_categories)\n",
    "    line = randomChoice(category_lines[category])\n",
    "    category_tensor = torch.tensor([all_categories.index(category)], dtype=torch.long)\n",
    "    line_tensor = lineToTensor(line)\n",
    "    return category, line, category_tensor, line_tensor\n",
    "\n",
    "for i in range(10):\n",
    "    category, line, category_tensor, line_tensor = randomTrainingExample()\n",
    "    print('category =', category, '/ line =', line)"
   ]
  },
  {
   "cell_type": "markdown",
   "id": "199a9224",
   "metadata": {},
   "source": [
    "### Construire le RNN\n",
    "\n",
    "Un Recurrent Neural Network prend, pour prédire un input X et un hidden state H.<br>\n",
    "Il output une prédiction et un nouvel hidden state pour la prochaine étape.<br>\n",
    "Nous allons construire un modèle:\n",
    "\n",
    "$f(name, H_0) = (proba(\\mbox{name from country 0}), proba(\\mbox{name from country 1}), \\dots)$\n",
    "\n",
    "Avec $H_0$ un hidden state initial (qui sera appris).\n",
    "\n",
    "Pour l'instant, nous allons construire un RNN linéaire.<br>\n",
    "Comme pour le MLP, construisez un torch.nn.Module:\n",
    "- A l'init, la classe prendra les arguments input_size, hidden_state_dim, output_size\n",
    "- L'init déclare un paramètre pour l'hidden state initial $H_0$, une layer linéaire prenant (input, hidden_state) -> output_size\n",
    "- Le forward fonctionnera ainsi:\n",
    "    - hidden_state = $H_0$\n",
    "    - For letter in name:\n",
    "        - x = one-hot encode (letter)\n",
    "        - output, hidden_state = linear_layer(x, hidden_state)\n",
    "    - return softmax(output)\n"
   ]
  },
  {
   "cell_type": "code",
   "execution_count": 24,
   "id": "3ab32234",
   "metadata": {},
   "outputs": [],
   "source": [
    "import torch\n",
    "import torch.nn as nn\n",
    "import torch.nn.functional as F\n",
    "\n",
    "class RNN(nn.Module):\n",
    "    def __init__(self, input_size, hidden_size, output_size):\n",
    "        super(RNN, self).__init__()\n",
    "        self.hidden_size = hidden_size\n",
    "        self.i2h = nn.Linear(input_size + hidden_size, hidden_size)\n",
    "        self.i2o = nn.Linear(input_size + hidden_size, output_size)\n",
    "        self.softmax = nn.LogSoftmax(dim=1)\n",
    "\n",
    "    def forward(self, input, hidden):\n",
    "        combined = torch.cat((input, hidden), 1)\n",
    "        hidden = self.i2h(combined)\n",
    "        output = self.i2o(combined)\n",
    "        output = self.softmax(output)\n",
    "        return output, hidden\n",
    "\n",
    "    def initHidden(self):\n",
    "        return torch.zeros(1, self.hidden_size)\n"
   ]
  },
  {
   "cell_type": "markdown",
   "id": "61972503",
   "metadata": {},
   "source": [
    "A l'aide de la negative log likelihood (torch.nn.NLLLoss), construisez une boucle optimisant ce modèle (optimizer, itération au sein des examples).\n",
    "\n",
    "**Attention 1:** Ici, on n'a pas des tenseurs X, y. On va prendre les exemples 1 par 1.<br>\n",
    "**Attention 2:** Si le modèle apprend les examples dans l'ordre (d'abord tous les noms arabes, puis tous les chinois, puis tous les tchèques, etc), cela changera grandement le résulat (et le modèle sera très mauvais)"
   ]
  },
  {
   "cell_type": "code",
   "execution_count": 25,
   "id": "dce66341",
   "metadata": {},
   "outputs": [
    {
     "name": "stdout",
     "output_type": "stream",
     "text": [
      "Iter 5000 / 100000 Loss: 2.7870\n",
      "Iter 10000 / 100000 Loss: 2.3283\n",
      "Iter 15000 / 100000 Loss: 2.0577\n",
      "Iter 20000 / 100000 Loss: 1.8834\n",
      "Iter 25000 / 100000 Loss: 1.7914\n",
      "Iter 30000 / 100000 Loss: 1.6798\n",
      "Iter 35000 / 100000 Loss: 1.6342\n",
      "Iter 40000 / 100000 Loss: 1.5724\n",
      "Iter 45000 / 100000 Loss: 1.5365\n",
      "Iter 50000 / 100000 Loss: 1.4861\n",
      "Iter 55000 / 100000 Loss: 1.5049\n",
      "Iter 60000 / 100000 Loss: 1.3973\n",
      "Iter 65000 / 100000 Loss: 1.3907\n",
      "Iter 70000 / 100000 Loss: 1.3676\n",
      "Iter 75000 / 100000 Loss: 1.3859\n",
      "Iter 80000 / 100000 Loss: 1.3583\n",
      "Iter 85000 / 100000 Loss: 1.3378\n",
      "Iter 90000 / 100000 Loss: 1.3552\n",
      "Iter 95000 / 100000 Loss: 1.3179\n",
      "Iter 100000 / 100000 Loss: 1.2750\n"
     ]
    }
   ],
   "source": [
    "# Partie 3: Boucle d'Entraînement\n",
    "def train(category_tensor, line_tensor, rnn, criterion, optimizer):\n",
    "    hidden = rnn.initHidden()\n",
    "    rnn.zero_grad()\n",
    "\n",
    "    for i in range(line_tensor.size()[0]):\n",
    "        output, hidden = rnn(line_tensor[i], hidden)\n",
    "\n",
    "    loss = criterion(output, category_tensor)\n",
    "    loss.backward()\n",
    "    optimizer.step()\n",
    "\n",
    "    return output, loss.item()\n",
    "\n",
    "def randomTrainingExample():\n",
    "    category = random.choice(all_categories)\n",
    "    line = random.choice(category_lines[category])\n",
    "    category_tensor = torch.tensor([all_categories.index(category)], dtype=torch.long)\n",
    "    line_tensor = lineToTensor(line)\n",
    "    return category, line, category_tensor, line_tensor\n",
    "\n",
    "# Initialisation du RNN\n",
    "n_hidden = 128\n",
    "rnn = RNN(n_letters, n_hidden, n_categories)\n",
    "\n",
    "# Loss et Optimizer\n",
    "criterion = nn.NLLLoss()\n",
    "learning_rate = 0.005\n",
    "optimizer = torch.optim.SGD(rnn.parameters(), lr=learning_rate)\n",
    "\n",
    "# Entraînement\n",
    "n_iters = 100000\n",
    "print_every = 5000\n",
    "current_loss = 0\n",
    "\n",
    "for iter in range(1, n_iters + 1):\n",
    "    category, line, category_tensor, line_tensor = randomTrainingExample()\n",
    "    output, loss = train(category_tensor, line_tensor, rnn, criterion, optimizer)\n",
    "    current_loss += loss\n",
    "\n",
    "    if iter % print_every == 0:\n",
    "        print(f'Iter {iter} / {n_iters} Loss: {current_loss / print_every:.4f}')\n",
    "        current_loss = 0"
   ]
  },
  {
   "cell_type": "markdown",
   "id": "a2625860",
   "metadata": {},
   "source": [
    "## Utilisez les RNNs de Pytorch\n",
    "\n",
    "Sur le même jeu de données, nous allons utiliser les RNNs déjà codés par Pytorch.<br>"
   ]
  },
  {
   "cell_type": "markdown",
   "id": "264251cf",
   "metadata": {},
   "source": [
    "### Padding\n",
    "\n",
    "Nous voulons aussi utiliser des tenseurs X et y pour utiliser data loader pour les batchs, etc\n",
    "\n",
    "\n",
    "Avec du padding, créer un tenseur X de la taille (nb_data, name_max_length, vocab_size). <br>\n",
    "X[i, j, :] contient le one-hot encode de la j-ème lettre du i-ème prénom. Si le i-ème prénom a moins de j lettre, alors X[i, j, :] est un vecteur nul"
   ]
  },
  {
   "cell_type": "code",
   "execution_count": 27,
   "id": "eaa21023",
   "metadata": {},
   "outputs": [],
   "source": [
    "def nameToTensor(name, max_length):\n",
    "    tensor = torch.zeros(max_length, n_letters)\n",
    "    for li, letter in enumerate(name):\n",
    "        tensor[li][all_letters.find(letter)] = 1\n",
    "    return tensor\n",
    "\n",
    "max_length = max(len(name) for names in category_lines.values() for name in names)\n",
    "nb_data = sum(len(names) for names in category_lines.values())\n",
    "\n",
    "X = torch.zeros(nb_data, max_length, n_letters)\n",
    "y = torch.zeros(nb_data, dtype=torch.long)\n",
    "\n",
    "index = 0  # Index séquentiel pour X et y\n",
    "for category in all_categories:\n",
    "    for name in category_lines[category]:\n",
    "        X[index] = nameToTensor(name, max_length)\n",
    "        y[index] = all_categories.index(category)\n",
    "        index += 1  # Incrémenter l'index après chaque nom\n",
    "\n"
   ]
  },
  {
   "cell_type": "markdown",
   "id": "a0e91689",
   "metadata": {},
   "source": [
    "### Modèle\n",
    "\n",
    "Construisez un modèle qui:\n",
    "- A l'init, déclare un hidden state initial $H_0$, un RNN (avec torch.nn.RNN)\n",
    "- Au forward, passe (input, $H_0$) dans le RNN, puis applique un softmax à l'output"
   ]
  },
  {
   "cell_type": "code",
   "execution_count": 28,
   "id": "b5b60d00",
   "metadata": {},
   "outputs": [],
   "source": [
    "class RNNModel(nn.Module):\n",
    "    def __init__(self, input_size, hidden_size, output_size):\n",
    "        super(RNNModel, self).__init__()\n",
    "        self.hidden_size = hidden_size\n",
    "        self.rnn = nn.RNN(input_size, hidden_size, batch_first=True)\n",
    "        self.fc = nn.Linear(hidden_size, output_size)\n",
    "\n",
    "    def forward(self, x):\n",
    "        batch_size = x.size(0)\n",
    "        hidden = self.initHidden(batch_size)\n",
    "        out, hidden = self.rnn(x, hidden)\n",
    "        out = self.fc(out[:, -1, :])  # Prendre la dernière sortie de RNN pour chaque nom\n",
    "        return F.log_softmax(out, dim=1)\n",
    "\n",
    "    def initHidden(self, batch_size):\n",
    "        return torch.zeros(1, batch_size, self.hidden_size)\n"
   ]
  },
  {
   "cell_type": "markdown",
   "id": "2a81d080",
   "metadata": {},
   "source": [
    "Entraînez le modèle avec des batchs de X, y"
   ]
  },
  {
   "cell_type": "code",
   "execution_count": 29,
   "id": "2c675881",
   "metadata": {},
   "outputs": [
    {
     "name": "stdout",
     "output_type": "stream",
     "text": [
      "Epoch 1, Loss: 1.787037968635559\n",
      "Epoch 2, Loss: 1.8740615844726562\n",
      "Epoch 3, Loss: 1.668428659439087\n",
      "Epoch 4, Loss: 1.986592411994934\n",
      "Epoch 5, Loss: 1.7425355911254883\n"
     ]
    }
   ],
   "source": [
    "from torch.utils.data import DataLoader, TensorDataset\n",
    "\n",
    "dataset = TensorDataset(X, y)\n",
    "loader = DataLoader(dataset, batch_size=64, shuffle=True)\n",
    "\n",
    "n_hidden = 128\n",
    "model = RNNModel(n_letters, n_hidden, n_categories)\n",
    "criterion = nn.NLLLoss()\n",
    "optimizer = torch.optim.SGD(model.parameters(), lr=0.005)\n",
    "\n",
    "for epoch in range(5):  # Nombre d'époques\n",
    "    for batch_X, batch_y in loader:\n",
    "        optimizer.zero_grad()\n",
    "        output = model(batch_X)\n",
    "        loss = criterion(output, batch_y)\n",
    "        loss.backward()\n",
    "        optimizer.step()\n",
    "    print(f'Epoch {epoch + 1}, Loss: {loss.item()}')\n"
   ]
  },
  {
   "cell_type": "markdown",
   "id": "eda0372a",
   "metadata": {},
   "source": [
    "### Amélioration du modèle\n",
    "\n",
    "Tenter d'améliorer le modèle:\n",
    "- En utilisant plusieurs layers dans le RNN\n",
    "- En utilisant LSTM à la place de RNN (une autre forme de recurrent neural network, plus avancé)\n",
    "\n",
    "(regardez la doc)"
   ]
  },
  {
   "cell_type": "code",
   "execution_count": 30,
   "id": "f688924b",
   "metadata": {},
   "outputs": [],
   "source": [
    "class LSTMModel(nn.Module):\n",
    "    def __init__(self, input_size, hidden_size, output_size, num_layers=1):\n",
    "        super(LSTMModel, self).__init__()\n",
    "        self.hidden_size = hidden_size\n",
    "        self.num_layers = num_layers\n",
    "        self.lstm = nn.LSTM(input_size, hidden_size, num_layers, batch_first=True)\n",
    "        self.fc = nn.Linear(hidden_size, output_size)\n",
    "\n",
    "    def forward(self, x):\n",
    "        batch_size = x.size(0)\n",
    "        hidden = self.initHidden(batch_size)\n",
    "        out, (hidden, _) = self.lstm(x, hidden)\n",
    "        out = self.fc(out[:, -1, :])\n",
    "        return F.log_softmax(out, dim=1)\n",
    "\n",
    "    def initHidden(self, batch_size):\n",
    "        return (torch.zeros(self.num_layers, batch_size, self.hidden_size),\n",
    "                torch.zeros(self.num_layers, batch_size, self.hidden_size))\n"
   ]
  },
  {
   "cell_type": "code",
   "execution_count": 31,
   "metadata": {},
   "outputs": [
    {
     "name": "stdout",
     "output_type": "stream",
     "text": [
      "Epoch 1, Loss: 2.463064193725586\n",
      "Epoch 2, Loss: 1.985414981842041\n",
      "Epoch 3, Loss: 1.700084924697876\n",
      "Epoch 4, Loss: 1.690616250038147\n",
      "Epoch 5, Loss: 1.6722506284713745\n"
     ]
    }
   ],
   "source": [
    "from torch.utils.data import DataLoader, TensorDataset\n",
    "\n",
    "dataset = TensorDataset(X, y)\n",
    "loader = DataLoader(dataset, batch_size=64, shuffle=True)\n",
    "\n",
    "n_hidden = 128\n",
    "model = LSTMModel(n_letters, n_hidden, n_categories)\n",
    "criterion = nn.NLLLoss()\n",
    "optimizer = torch.optim.SGD(model.parameters(), lr=0.005)\n",
    "\n",
    "for epoch in range(5):  # Nombre d'époques\n",
    "    for batch_X, batch_y in loader:\n",
    "        optimizer.zero_grad()\n",
    "        output = model(batch_X)\n",
    "        loss = criterion(output, batch_y)\n",
    "        loss.backward()\n",
    "        optimizer.step()\n",
    "    print(f'Epoch {epoch + 1}, Loss: {loss.item()}')\n"
   ]
  },
  {
   "cell_type": "markdown",
   "id": "da84e069",
   "metadata": {},
   "source": [
    "### Embedding\n",
    "\n",
    "On veut utiliser en embedding pour les lettres.\n",
    "Le forward appliquerait l'embedding aux lettres, puis les layers RNN prendrait l'embedding comme input\n",
    "\n",
    "Nous allons utiliser torch.nn.Embedding\n",
    "**Attention**: Embedding ne prend pas les lettres one-hot encoded, mais leurs indices.\n",
    "Par exemple, \"abca\", il lui faudrait le vecteur [0, 1, 2, 0]<br>\n",
    "et non [[1, 0, 0], [0, 1, 0], [0, 0, 1], [1, 0, 0]]"
   ]
  },
  {
   "cell_type": "markdown",
   "id": "c0418088",
   "metadata": {},
   "source": [
    "**Expérimenter torch.nn.Embedding**<br>\n",
    "Instantier \"emb\" une torch.nn.Embedding avec les bons paramètres (regardez la doc)\n",
    "En construisant le bon tenseur X_emb,\n",
    "\n",
    "```emb(X_emb)```\n",
    "\n",
    "doit retourner un tenseur (qui n'a pas de sens car il n'a rien appris pour l'instant, mais les opérations se passent bien)"
   ]
  },
  {
   "cell_type": "code",
   "execution_count": 46,
   "id": "617eb47b",
   "metadata": {},
   "outputs": [],
   "source": [
    "def nameToIndices(name):\n",
    "    return [all_letters.find(letter) for letter in name]\n",
    "\n",
    "# Création du tenseur X_indices\n",
    "X_indices = torch.zeros(nb_data, max_length, dtype=torch.long)\n",
    "\n",
    "index = 0  # Index séquentiel pour X_indices\n",
    "for category in all_categories:\n",
    "    for name in category_lines[category]:\n",
    "        indices = nameToIndices(name)\n",
    "        for idx, letter_idx in enumerate(indices):\n",
    "            X_indices[index][idx] = letter_idx\n",
    "        index += 1  # Incrémenter l'index après chaque nom\n",
    "        "
   ]
  },
  {
   "cell_type": "code",
   "execution_count": 47,
   "metadata": {},
   "outputs": [],
   "source": [
    "embedding_dim = 64  # Taille de l'embedding\n",
    "emb = nn.Embedding(n_letters, embedding_dim)\n",
    "n_categories = len(all_categories)  # Nombre de catégories (langues)\n",
    "learning_rate = 0.005  # Taux d'apprentissage\n",
    "\n",
    "# Création du dataset et du DataLoader\n",
    "dataset = TensorDataset(X_indices, y)\n",
    "loader = DataLoader(dataset, batch_size=128, shuffle=True)  # Augmenter la taille du batch"
   ]
  },
  {
   "cell_type": "markdown",
   "id": "508cc851",
   "metadata": {},
   "source": [
    "Construisez un modèle RNN, où les lettres passent par l'embedding avant d'être envoyées dans les couches de RNN.\n",
    "Construisez une loop d'apprentissage\n",
    "\n",
    "Expérimentez plusieurs valeurs pour le nombre de couche, la taille d'embedding ou les tailles d'hidden state.<br>\n",
    "Quel neg log likelihood obtenez-vous ?"
   ]
  },
  {
   "cell_type": "code",
   "execution_count": 48,
   "id": "25e58d7a",
   "metadata": {},
   "outputs": [],
   "source": [
    "class RNNModel(nn.Module):\n",
    "    def __init__(self, embedding_dim, hidden_size, output_size, num_layers=1):\n",
    "        super(RNNModel, self).__init__()\n",
    "        self.hidden_size = hidden_size\n",
    "        self.num_layers = num_layers\n",
    "        self.embedding = nn.Embedding(n_letters, embedding_dim)\n",
    "        self.rnn = nn.RNN(embedding_dim, hidden_size, num_layers, batch_first=True)\n",
    "        self.fc = nn.Linear(hidden_size, output_size)\n",
    "\n",
    "    def forward(self, x):\n",
    "        batch_size = x.size(0)\n",
    "        x = self.embedding(x)  # Appliquer l'embedding\n",
    "        hidden = self.initHidden(batch_size)\n",
    "        out, hidden = self.rnn(x, hidden)\n",
    "        out = self.fc(out[:, -1, :])\n",
    "        return F.log_softmax(out, dim=1)\n",
    "\n",
    "    def initHidden(self, batch_size):\n",
    "        return torch.zeros(self.num_layers, batch_size, self.hidden_size)"
   ]
  },
  {
   "cell_type": "code",
   "execution_count": 49,
   "metadata": {},
   "outputs": [
    {
     "name": "stdout",
     "output_type": "stream",
     "text": [
      "Iter 100 / 1000 Loss: 2.0198\n",
      "Iter 200 / 1000 Loss: 1.7611\n",
      "Iter 300 / 1000 Loss: 2.0445\n",
      "Iter 400 / 1000 Loss: 1.7085\n",
      "Iter 500 / 1000 Loss: 1.9690\n",
      "Iter 600 / 1000 Loss: 1.7737\n",
      "Iter 700 / 1000 Loss: 1.9396\n",
      "Iter 800 / 1000 Loss: 2.0809\n",
      "Iter 900 / 1000 Loss: 2.0677\n",
      "Iter 1000 / 1000 Loss: 1.6675\n"
     ]
    }
   ],
   "source": [
    "import torch\n",
    "import torch.nn as nn\n",
    "import torch.optim as optim\n",
    "from torch.utils.data import DataLoader, TensorDataset\n",
    "\n",
    "#  Initialisation du modèle et de l'optimiseur\n",
    "model = RNNModel(embedding_dim, n_hidden, n_categories)\n",
    "criterion = nn.NLLLoss()\n",
    "optimizer = optim.Adam(model.parameters(), lr=learning_rate)\n",
    "\n",
    "\n",
    "# Boucle d'apprentissage\n",
    "n_iters = 1000\n",
    "for iter in range(1, n_iters + 1):\n",
    "    for batch, (X_batch, y_batch) in enumerate(loader):\n",
    "        optimizer.zero_grad()\n",
    "        output = model(X_batch)\n",
    "        loss = criterion(output, y_batch)\n",
    "        loss.backward()\n",
    "        optimizer.step()\n",
    "\n",
    "    # Affichage de la progression\n",
    "    if iter % 100 == 0:\n",
    "        print(f'Iter {iter} / {n_iters} Loss: {loss.item():.4f}')\n"
   ]
  }
 ],
 "metadata": {
  "kernelspec": {
   "display_name": "Python 3 (ipykernel)",
   "language": "python",
   "name": "python3"
  },
  "language_info": {
   "codemirror_mode": {
    "name": "ipython",
    "version": 3
   },
   "file_extension": ".py",
   "mimetype": "text/x-python",
   "name": "python",
   "nbconvert_exporter": "python",
   "pygments_lexer": "ipython3",
   "version": "3.9.6"
  }
 },
 "nbformat": 4,
 "nbformat_minor": 5
}
